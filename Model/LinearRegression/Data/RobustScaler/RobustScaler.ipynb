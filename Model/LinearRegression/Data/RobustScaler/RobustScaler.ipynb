{
 "cells": [
  {
   "cell_type": "code",
   "execution_count": 1,
   "metadata": {},
   "outputs": [
    {
     "name": "stdout",
     "output_type": "stream",
     "text": [
      "RobustScaler()\n",
      "RobustScaler()\n",
      "RobustScaler()\n",
      "RobustScaler()\n",
      "RobustScaler()\n",
      "RobustScaler()\n",
      "RobustScaler()\n"
     ]
    }
   ],
   "source": [
    "import numpy as np\n",
    "import pandas as pd\n",
    "from sklearn.preprocessing import RobustScaler\n",
    "\n",
    "\n",
    "def robustScaler(file, new_file):\n",
    "    mice = pd.read_csv(file, encoding = 'utf-8')\n",
    "    date = mice['date']\n",
    "    mice = mice.iloc[:,1:]\n",
    "\n",
    "    robustScaler = RobustScaler()\n",
    "    print(robustScaler.fit(mice))\n",
    "    mice_data_robustScaled = robustScaler.transform(mice)\n",
    "    \n",
    "    mice_df_robust = pd.DataFrame(mice_data_robustScaled,columns = mice.columns)\n",
    "    mice_df_robust.insert(0,\"date\", date)\n",
    "    mice_df_robust.to_csv(new_file, index = False)\n",
    "    mice_df_robust\n",
    "    \n",
    "robustScaler(\"n+1일_data.csv\", \"mice_df_robust1.csv\")\n",
    "robustScaler(\"n+2일_data.csv\", \"mice_df_robust2.csv\")\n",
    "robustScaler(\"n+3일_data.csv\", \"mice_df_robust3.csv\")\n",
    "robustScaler(\"n+4일_data.csv\", \"mice_df_robust4.csv\")\n",
    "robustScaler(\"n+5일_data.csv\", \"mice_df_robust5.csv\")\n",
    "robustScaler(\"n+6일_data.csv\", \"mice_df_robust6.csv\")\n",
    "robustScaler(\"n+7일_data.csv\", \"mice_df_robust7.csv\")"
   ]
  },
  {
   "cell_type": "code",
   "execution_count": null,
   "metadata": {},
   "outputs": [],
   "source": []
  }
 ],
 "metadata": {
  "kernelspec": {
   "display_name": "Python 3",
   "language": "python",
   "name": "python3"
  },
  "language_info": {
   "codemirror_mode": {
    "name": "ipython",
    "version": 3
   },
   "file_extension": ".py",
   "mimetype": "text/x-python",
   "name": "python",
   "nbconvert_exporter": "python",
   "pygments_lexer": "ipython3",
   "version": "3.7.0"
  }
 },
 "nbformat": 4,
 "nbformat_minor": 4
}
